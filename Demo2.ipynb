{
 "cells": [
  {
   "cell_type": "code",
   "execution_count": null,
   "metadata": {},
   "outputs": [],
   "source": [
    "# Import libraries\n",
    "import matplotlib.pyplot as plt\n",
    "import pandas as pd\n",
    "import pandas_datareader.data as web\n",
    "from datetime import datetime as dt\n",
    "import plotly.graph_objects as go"
   ]
  },
  {
   "cell_type": "code",
   "execution_count": null,
   "id": "d0e4daf3",
   "metadata": {},
   "outputs": [],
   "source": [
    "# Get financial data\n",
    "data = web.DataReader(name=\"AAPL\", data_source=\"stooq\")\n",
    "# Show sample of data\n",
    "data.head()"
   ]
  },
  {
   "cell_type": "code",
   "execution_count": null,
   "id": "497f62e6",
   "metadata": {},
   "outputs": [],
   "source": [
    "candlestick = go.Candlestick(\n",
    "    x=data.index,\n",
    "    open=data['Open'],\n",
    "    high=data['High'],\n",
    "    low=data['Low'],\n",
    "    close=data['Close'],\n",
    "    name=\"DATA\"\n",
    ")\n",
    "\n",
    "# create the figure\n",
    "fig = go.Figure(data=[candlestick])\n",
    "  \n",
    "# plot the figure\n",
    "fig.show()"
   ]
  }
 ],
 "metadata": {
  "kernelspec": {
   "display_name": "notebooks3.9",
   "language": "python",
   "name": "python3"
  },
  "language_info": {
   "codemirror_mode": {
    "name": "ipython",
    "version": 3
   },
   "file_extension": ".py",
   "mimetype": "text/x-python",
   "name": "python",
   "nbconvert_exporter": "python",
   "pygments_lexer": "ipython3",
   "version": "3.9.13 (main, Oct 13 2022, 21:15:33) \n[GCC 11.2.0]"
  },
  "vscode": {
   "interpreter": {
    "hash": "5bea9af8a563456fccd3440b22d9d6fcbd53ec77450f560c07d218753d6daf73"
   }
  }
 },
 "nbformat": 4,
 "nbformat_minor": 5
}
