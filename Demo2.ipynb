{
 "cells": [
  {
   "cell_type": "markdown",
   "id": "a1337e53",
   "metadata": {},
   "source": [
    "# Demo 2 - Yahoo finance data\n",
    "\n",
    "## Resources\n",
    "- https://www.qmr.ai/yfinance-library-the-definitive-guide/\n",
    "- https://algotrading101.com/learn/yahoo-finance-api-guide/\n",
    "- https://plotly.com/python-api-reference"
   ]
  },
  {
   "cell_type": "code",
   "execution_count": null,
   "metadata": {},
   "outputs": [],
   "source": [
    "# Import libraries\n",
    "import matplotlib.pyplot as plt\n",
    "import pandas as pd\n",
    "from datetime import datetime as dt\n",
    "import plotly.graph_objects as go\n",
    "\n",
    "import yfinance as yf\n"
   ]
  },
  {
   "cell_type": "code",
   "execution_count": null,
   "id": "d0e4daf3",
   "metadata": {},
   "outputs": [],
   "source": [
    "# Get financial data\n",
    "tickers = \"TSLA\"\n",
    "\n",
    "start=dt(year=2023, month=1, day=10, hour=8, minute=0,second=0, microsecond=0)\n",
    "end=dt(year=2023, month=1, day=16, hour=20, minute=0,second=0, microsecond=0)\n",
    "\n",
    "chart_title = f\"{tickers} {start} - {end}\"\n",
    "data = yf.download(\n",
    "    tickers = tickers,\n",
    "    start=start,\n",
    "    end=end,\n",
    "    interval = \"1m\",\n",
    "    threads = True,\n",
    "    proxy = None\n",
    ")\n",
    "\n",
    "# Show sample\n",
    "data.head()"
   ]
  },
  {
   "cell_type": "code",
   "execution_count": null,
   "id": "497f62e6",
   "metadata": {},
   "outputs": [],
   "source": [
    "# Add candle sticks\n",
    "candlestick = go.Candlestick(\n",
    "    x=data.index,\n",
    "    open=data['Open'],\n",
    "    high=data['High'],\n",
    "    low=data['Low'],\n",
    "    close=data['Close'],\n",
    "    name=\"DATA\"\n",
    ")\n",
    "\n",
    "\n",
    "line = go.Scatter(\n",
    "    x=data.index,\n",
    "    y=data['Open'],\n",
    "    marker={\n",
    "        \"color\": \"blue\"\n",
    "    }\n",
    ")\n",
    "\n",
    "y_axis = go.layout.YAxis(autorange=True, range=[127, 130])\n"
   ]
  },
  {
   "cell_type": "code",
   "execution_count": null,
   "id": "5e0fd0af",
   "metadata": {},
   "outputs": [],
   "source": [
    "\n",
    "# Create the figure\n",
    "fig = go.Figure(\n",
    "    layout={\n",
    "        \"title_text\": tickers,\n",
    "        \"autosize\": True,\n",
    "        \"yaxis\": y_axis\n",
    "    }, \n",
    "    data=[candlestick, line]\n",
    ")\n",
    "# Update plot sizing\n",
    "fig.update_layout(\n",
    "    autosize=True,\n",
    "    margin=dict(t=50, b=10, l=10, r=10),\n",
    ")\n",
    "fig.update_yaxes(fixedrange=False)\n",
    "\n",
    "# plot the figure\n",
    "fig.show()"
   ]
  }
 ],
 "metadata": {
  "kernelspec": {
   "display_name": "notebooks3.9",
   "language": "python",
   "name": "python3"
  },
  "language_info": {
   "codemirror_mode": {
    "name": "ipython",
    "version": 3
   },
   "file_extension": ".py",
   "mimetype": "text/x-python",
   "name": "python",
   "nbconvert_exporter": "python",
   "pygments_lexer": "ipython3",
   "version": "3.9.13"
  },
  "vscode": {
   "interpreter": {
    "hash": "5bea9af8a563456fccd3440b22d9d6fcbd53ec77450f560c07d218753d6daf73"
   }
  }
 },
 "nbformat": 4,
 "nbformat_minor": 5
}
