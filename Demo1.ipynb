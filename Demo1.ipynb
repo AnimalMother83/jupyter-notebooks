{
 "cells": [
  {
   "cell_type": "code",
   "execution_count": null,
   "metadata": {},
   "outputs": [],
   "source": [
    "# Import libraries\n",
    "import matplotlib.pyplot as plt\n",
    "import pandas as pd\n",
    "import pandas_datareader.data as web\n",
    "from datetime import datetime as dt"
   ]
  },
  {
   "cell_type": "code",
   "execution_count": null,
   "id": "d0e4daf3",
   "metadata": {},
   "outputs": [],
   "source": [
    "# Get financial data\n",
    "data = web.DataReader(name=\"AAPL\", data_source=\"stooq\")\n",
    "\n",
    "# Show sample of data\n",
    "data.head()"
   ]
  },
  {
   "cell_type": "code",
   "execution_count": null,
   "id": "6e2b8716",
   "metadata": {},
   "outputs": [],
   "source": [
    "data.plot(y=\"Open\")\n",
    "plt.show()\n"
   ]
  }
 ],
 "metadata": {
  "kernelspec": {
   "display_name": "notebooks3.9",
   "language": "python",
   "name": "python3"
  },
  "language_info": {
   "codemirror_mode": {
    "name": "ipython",
    "version": 3
   },
   "file_extension": ".py",
   "mimetype": "text/x-python",
   "name": "python",
   "nbconvert_exporter": "python",
   "pygments_lexer": "ipython3",
   "version": "3.9.13"
  },
  "vscode": {
   "interpreter": {
    "hash": "5bea9af8a563456fccd3440b22d9d6fcbd53ec77450f560c07d218753d6daf73"
   }
  }
 },
 "nbformat": 4,
 "nbformat_minor": 5
}
